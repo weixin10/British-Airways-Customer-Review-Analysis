{
 "cells": [
  {
   "cell_type": "markdown",
   "id": "a3f65a1e",
   "metadata": {},
   "source": [
    "# British Airways (BA) Customer Review Data Analysis\n",
    "This script is written to collect customer feedback through data scraping and to understand the customers' needs and opinions about BA through data analysis. Customer review data is obtained from a third party source, [Skytrax](https://www.airlinequality.com/airline-reviews/british-airways). The data is analysed using topic modelling methods including NMF and LDA. Sentiment analysis was carried out using VADER and a word cloud was generated. Customer review data is essential for understanding the general customer experience and what the customer values, hence BA can improve on those qualities to provide better customer experience. \n",
    "\n",
    "This project is the first task of the British Airways Data Science virtual experience programme.[¹](https://www.theforage.com/virtual-internships/NjynCWzGSaWXQCxSX?ref=Z3KC3m2z3qvoMguDz)"
   ]
  },
  {
   "cell_type": "code",
   "execution_count": 2,
   "id": "a683cc9b",
   "metadata": {},
   "outputs": [],
   "source": [
    "import pandas as pd\n",
    "import matplotlib.pyplot as plt\n",
    "\n",
    "#Data Scraping\n",
    "import requests\n",
    "from bs4 import BeautifulSoup as bs\n",
    "\n",
    "#Data Cleaning\n",
    "import nltk\n",
    "from nltk.corpus import stopwords\n",
    "from nltk.stem.wordnet import WordNetLemmatizer\n",
    "import re\n",
    "\n",
    "#Word Cloud\n",
    "from wordcloud import WordCloud\n",
    "\n",
    "#Topic Modelling\n",
    "from sklearn.feature_extraction.text import CountVectorizer\n",
    "from sklearn.decomposition import LatentDirichletAllocation\n",
    "from sklearn.decomposition import NMF\n",
    "\n",
    "#Sentiment Analysis\n",
    "from vaderSentiment.vaderSentiment import SentimentIntensityAnalyzer\n",
    "import seaborn as sns"
   ]
  },
  {
   "cell_type": "markdown",
   "id": "3fb75a98",
   "metadata": {},
   "source": [
    "## Data Scraping"
   ]
  },
  {
   "cell_type": "code",
   "execution_count": 18,
   "id": "c797106e",
   "metadata": {},
   "outputs": [
    {
     "name": "stdout",
     "output_type": "stream",
     "text": [
      "Scraping page 1\n",
      "100 total reviews\n",
      "Scraping page 2\n",
      "200 total reviews\n",
      "Scraping page 3\n",
      "300 total reviews\n",
      "Scraping page 4\n",
      "400 total reviews\n",
      "Scraping page 5\n",
      "500 total reviews\n",
      "Scraping page 6\n",
      "600 total reviews\n",
      "Scraping page 7\n",
      "700 total reviews\n",
      "Scraping page 8\n",
      "800 total reviews\n",
      "Scraping page 9\n",
      "900 total reviews\n",
      "Scraping page 10\n",
      "1000 total reviews\n",
      "Scraping page 11\n",
      "1100 total reviews\n",
      "Scraping page 12\n",
      "1200 total reviews\n",
      "Scraping page 13\n",
      "1300 total reviews\n",
      "Scraping page 14\n",
      "1400 total reviews\n",
      "Scraping page 15\n",
      "1500 total reviews\n",
      "Scraping page 16\n",
      "1600 total reviews\n",
      "Scraping page 17\n",
      "1700 total reviews\n",
      "Scraping page 18\n",
      "1800 total reviews\n",
      "Scraping page 19\n",
      "1900 total reviews\n",
      "Scraping page 20\n",
      "2000 total reviews\n",
      "Scraping page 21\n",
      "2100 total reviews\n",
      "Scraping page 22\n",
      "2200 total reviews\n",
      "Scraping page 23\n",
      "2300 total reviews\n",
      "Scraping page 24\n",
      "2400 total reviews\n",
      "Scraping page 25\n",
      "2500 total reviews\n",
      "Scraping page 26\n",
      "2600 total reviews\n",
      "Scraping page 27\n",
      "2700 total reviews\n",
      "Scraping page 28\n",
      "2800 total reviews\n",
      "Scraping page 29\n",
      "2900 total reviews\n",
      "Scraping page 30\n",
      "3000 total reviews\n",
      "Scraping page 31\n",
      "3100 total reviews\n",
      "Scraping page 32\n",
      "3200 total reviews\n",
      "Scraping page 33\n",
      "3300 total reviews\n",
      "Scraping page 34\n",
      "3400 total reviews\n",
      "Scraping page 35\n",
      "3476 total reviews\n"
     ]
    }
   ],
   "source": [
    "base_url = \"https://www.airlinequality.com/airline-reviews/british-airways\"\n",
    "pages=35\n",
    "page_size=100\n",
    "\n",
    "reviews=[]\n",
    "for i in range(1,pages+1):\n",
    "    print(f\"Scraping page {i}\")\n",
    "    \n",
    "    url = f\"{base_url}/page/{i}/?sortby=post_date%3ADesc&pagesize={page_size}\"\n",
    "    \n",
    "    response = requests.get(url)\n",
    "    \n",
    "    content = response.content\n",
    "    parsed_content = bs(content, \"html.parser\")\n",
    "    for para in parsed_content.find_all(\"div\",{\"class\":\"text_content\"}):\n",
    "        reviews.append(para.get_text())\n",
    "    print(f\"{len(reviews)} total reviews\")"
   ]
  },
  {
   "cell_type": "code",
   "execution_count": 180,
   "id": "a8d3634a",
   "metadata": {},
   "outputs": [],
   "source": [
    "df.to_csv(\"BA_reviews.csv\")"
   ]
  },
  {
   "cell_type": "markdown",
   "id": "dbbb256f",
   "metadata": {},
   "source": [
    "## Data Cleaning"
   ]
  },
  {
   "cell_type": "code",
   "execution_count": 3,
   "id": "eb714558",
   "metadata": {},
   "outputs": [],
   "source": [
    "df2 = pd.read_csv(\"BA_reviews.csv\")"
   ]
  },
  {
   "cell_type": "code",
   "execution_count": 4,
   "id": "6638fb93",
   "metadata": {},
   "outputs": [],
   "source": [
    "stop = set(stopwords.words('english'))\n",
    "punc = '!\"$%&\\'()*+,-./:;<=>?[\\\\]^_`{|}~•@'\n",
    "# set of additional words to remove as these are unlikely to be useful for understanding the customer's experiences\n",
    "remove = set(['ba','✅', 'trip','verified','not','british','airway','airline','flight','airways','flights','plane', 'aircraft','one','get','would','really','first','could','even','told','also','still','u','airlines','airport'])\n",
    "lemma = WordNetLemmatizer()\n",
    "\n",
    "def clean(line):\n",
    "    stop_free = \" \".join([i for i in line.lower().split() if i not in stop])\n",
    "    removed = \" \".join([i for i in stop_free.split() if i not in remove])\n",
    "    no_free = re.sub('[0-9]+','',removed)\n",
    "    punc_free = re.sub('['+punc+']+','',no_free)\n",
    "    normalised = \" \".join(lemma.lemmatize(word) for word in punc_free.split())\n",
    "    return normalised\n",
    "\n",
    "cleaned = [clean(line) for line in df2['Reviews'].values]"
   ]
  },
  {
   "cell_type": "code",
   "execution_count": 5,
   "id": "c4e02017",
   "metadata": {},
   "outputs": [],
   "source": [
    "df3 = pd.DataFrame()\n",
    "df3['Cleaned Reviews'] = cleaned\n",
    "df3.to_csv(\"BA_reviews(Cleaned).csv\")"
   ]
  },
  {
   "cell_type": "code",
   "execution_count": 6,
   "id": "422979b6",
   "metadata": {},
   "outputs": [],
   "source": [
    "#create a copy of the dataset where the reviews are in full sentences for sentiment analysis. \n",
    "remove2 = set(['✅','Verified','Not','Trip','|'])\n",
    "\n",
    "def clean_SA(line):\n",
    "    cleaned = \" \".join([i for i in line.split() if i not in remove2])\n",
    "    return cleaned\n",
    "cleaned_SA = [clean_SA(line) for line in df2['Reviews'].values]"
   ]
  },
  {
   "cell_type": "markdown",
   "id": "e25eb58e",
   "metadata": {},
   "source": [
    "## Word Cloud"
   ]
  },
  {
   "cell_type": "code",
   "execution_count": 46,
   "id": "7e0c3670",
   "metadata": {},
   "outputs": [
    {
     "data": {
      "image/png": "[encoded data removed]",
      "text/plain": [
       "<Figure size 576x576 with 1 Axes>"
      ]
     },
     "metadata": {
      "needs_background": "light"
     },
     "output_type": "display_data"
    }
   ],
   "source": [
    "rev_words=''\n",
    "for line in cleaned:\n",
    "    tokens = line.split()  \n",
    "    rev_words+=\" \".join(tokens)+\" \"\n",
    "wordcloud = WordCloud(stopwords=stop,background_color ='white',min_font_size = 15).generate(rev_words)\n",
    "plt.figure(figsize = (8, 8), facecolor = None)\n",
    "plt.imshow(wordcloud)\n",
    "plt.axis(\"off\")\n",
    "plt.savefig('wordcloud.png',bbox_inches='tight')"
   ]
  },
  {
   "cell_type": "code",
   "execution_count": 226,
   "id": "a5506f32",
   "metadata": {},
   "outputs": [],
   "source": [
    "wordfreq = {}\n",
    "for word in rev_words.split():\n",
    "    if word not in wordfreq:\n",
    "        wordfreq[word] = 0\n",
    "    wordfreq[word] += 1\n",
    "word_df = pd.DataFrame.from_dict([wordfreq])   \n",
    "index = word_df.values[0].argsort()[-10:][::-1]"
   ]
  },
  {
   "cell_type": "code",
   "execution_count": 233,
   "id": "4ca45a84",
   "metadata": {},
   "outputs": [
    {
     "data": {
      "image/png": "[encoded data removed]",
      "text/plain": [
       "<Figure size 720x432 with 1 Axes>"
      ]
     },
     "metadata": {},
     "output_type": "display_data"
    }
   ],
   "source": [
    "fig = plt.figure(facecolor='white',figsize=(10,6))\n",
    "plt.bar(word_df.columns[index],word_df.values[0][index])\n",
    "plt.xticks(fontsize=15)\n",
    "plt.yticks(fontsize=15)\n",
    "plt.xlabel('Words',fontsize=15)\n",
    "plt.ylabel('Frequency',fontsize=15)\n",
    "plt.savefig('FreqWords.png',bbox_inches='tight')"
   ]
  },
  {
   "cell_type": "markdown",
   "id": "4e021dcc",
   "metadata": {},
   "source": [
    "## Topic Modelling"
   ]
  },
  {
   "cell_type": "markdown",
   "id": "c09ac3cb",
   "metadata": {},
   "source": [
    "### LDA"
   ]
  },
  {
   "cell_type": "code",
   "execution_count": 54,
   "id": "a1ebf9d2",
   "metadata": {},
   "outputs": [],
   "source": [
    "vectorizer = CountVectorizer(max_df=0.9,min_df=0.1)\n",
    "tf = vectorizer.fit_transform(cleaned).toarray()\n",
    "tf_feature_names= vectorizer.get_feature_names_out()"
   ]
  },
  {
   "cell_type": "code",
   "execution_count": 55,
   "id": "6da0d0c0",
   "metadata": {},
   "outputs": [
    {
     "data": {
      "text/plain": [
       "LatentDirichletAllocation(n_components=2, random_state=0)"
      ]
     },
     "execution_count": 55,
     "metadata": {},
     "output_type": "execute_result"
    }
   ],
   "source": [
    "number_of_topics = 2\n",
    "model = LatentDirichletAllocation(n_components=number_of_topics, random_state=0)\n",
    "model.fit(tf)"
   ]
  },
  {
   "cell_type": "code",
   "execution_count": 56,
   "id": "42fc25f8",
   "metadata": {},
   "outputs": [],
   "source": [
    "#taken from https://ourcodingclub.github.io/tutorials/topic-modelling-python/#:~:text=Topic%20modelling%20is%20an%20unsupervised,actually%20a%20collection%20of%20tweets.\n",
    "def display_topics(model, feature_names, no_top_words):\n",
    "    topic_dict = {}\n",
    "    for topic_idx, topic in enumerate(model.components_):\n",
    "        topic_dict[\"Topic %d words\" % (topic_idx)]= ['{}'.format(feature_names[i])\n",
    "                        for i in topic.argsort()[:-no_top_words - 1:-1]]\n",
    "        topic_dict[\"Topic %d weights\" % (topic_idx)]= ['{:.1f}'.format(topic[i])\n",
    "                        for i in topic.argsort()[:-no_top_words - 1:-1]]\n",
    "    return pd.DataFrame(topic_dict)"
   ]
  },
  {
   "cell_type": "code",
   "execution_count": 63,
   "id": "1b9bef15",
   "metadata": {},
   "outputs": [
    {
     "data": {
      "text/html": [
       "<div>\n",
       "<style scoped>\n",
       "    .dataframe tbody tr th:only-of-type {\n",
       "        vertical-align: middle;\n",
       "    }\n",
       "\n",
       "    .dataframe tbody tr th {\n",
       "        vertical-align: top;\n",
       "    }\n",
       "\n",
       "    .dataframe thead th {\n",
       "        text-align: right;\n",
       "    }\n",
       "</style>\n",
       "<table border=\"1\" class=\"dataframe\">\n",
       "  <thead>\n",
       "    <tr style=\"text-align: right;\">\n",
       "      <th></th>\n",
       "      <th>Topic 0 words</th>\n",
       "      <th>Topic 0 weights</th>\n",
       "      <th>Topic 1 words</th>\n",
       "      <th>Topic 1 weights</th>\n",
       "    </tr>\n",
       "  </thead>\n",
       "  <tbody>\n",
       "    <tr>\n",
       "      <th>0</th>\n",
       "      <td>seat</td>\n",
       "      <td>4064.7</td>\n",
       "      <td>service</td>\n",
       "      <td>1889.3</td>\n",
       "    </tr>\n",
       "    <tr>\n",
       "      <th>1</th>\n",
       "      <td>class</td>\n",
       "      <td>1797.7</td>\n",
       "      <td>time</td>\n",
       "      <td>1810.5</td>\n",
       "    </tr>\n",
       "    <tr>\n",
       "      <th>2</th>\n",
       "      <td>business</td>\n",
       "      <td>1483.2</td>\n",
       "      <td>crew</td>\n",
       "      <td>1569.6</td>\n",
       "    </tr>\n",
       "    <tr>\n",
       "      <th>3</th>\n",
       "      <td>economy</td>\n",
       "      <td>1320.3</td>\n",
       "      <td>hour</td>\n",
       "      <td>1430.7</td>\n",
       "    </tr>\n",
       "    <tr>\n",
       "      <th>4</th>\n",
       "      <td>food</td>\n",
       "      <td>1288.7</td>\n",
       "      <td>london</td>\n",
       "      <td>1408.0</td>\n",
       "    </tr>\n",
       "  </tbody>\n",
       "</table>\n",
       "</div>"
      ],
      "text/plain": [
       "  Topic 0 words Topic 0 weights Topic 1 words Topic 1 weights\n",
       "0          seat          4064.7       service          1889.3\n",
       "1         class          1797.7          time          1810.5\n",
       "2      business          1483.2          crew          1569.6\n",
       "3       economy          1320.3          hour          1430.7\n",
       "4          food          1288.7        london          1408.0"
      ]
     },
     "execution_count": 63,
     "metadata": {},
     "output_type": "execute_result"
    }
   ],
   "source": [
    "no_top_words = 5\n",
    "display_topics(model, tf_feature_names, no_top_words)"
   ]
  },
  {
   "cell_type": "markdown",
   "id": "ecf83f0e",
   "metadata": {},
   "source": [
    "### NMF"
   ]
  },
  {
   "cell_type": "code",
   "execution_count": 60,
   "id": "05098c08",
   "metadata": {},
   "outputs": [
    {
     "name": "stderr",
     "output_type": "stream",
     "text": [
      "C:\\ProgramData\\Anaconda3\\lib\\site-packages\\sklearn\\decomposition\\_nmf.py:289: FutureWarning: The 'init' value, when 'init=None' and n_components is less than n_samples and n_features, will be changed from 'nndsvd' to 'nndsvda' in 1.1 (renaming of 0.26).\n",
      "  warnings.warn(\n"
     ]
    },
    {
     "data": {
      "text/plain": [
       "NMF(alpha_W=0.1, max_iter=1000, n_components=2, random_state=0)"
      ]
     },
     "execution_count": 60,
     "metadata": {},
     "output_type": "execute_result"
    }
   ],
   "source": [
    "model2 = NMF(n_components=number_of_topics, alpha_W = 0.1,random_state=0,max_iter=1000)\n",
    "model2.fit(tf)"
   ]
  },
  {
   "cell_type": "code",
   "execution_count": 64,
   "id": "d7da507e",
   "metadata": {},
   "outputs": [
    {
     "data": {
      "text/html": [
       "<div>\n",
       "<style scoped>\n",
       "    .dataframe tbody tr th:only-of-type {\n",
       "        vertical-align: middle;\n",
       "    }\n",
       "\n",
       "    .dataframe tbody tr th {\n",
       "        vertical-align: top;\n",
       "    }\n",
       "\n",
       "    .dataframe thead th {\n",
       "        text-align: right;\n",
       "    }\n",
       "</style>\n",
       "<table border=\"1\" class=\"dataframe\">\n",
       "  <thead>\n",
       "    <tr style=\"text-align: right;\">\n",
       "      <th></th>\n",
       "      <th>Topic 0 words</th>\n",
       "      <th>Topic 0 weights</th>\n",
       "      <th>Topic 1 words</th>\n",
       "      <th>Topic 1 weights</th>\n",
       "    </tr>\n",
       "  </thead>\n",
       "  <tbody>\n",
       "    <tr>\n",
       "      <th>0</th>\n",
       "      <td>service</td>\n",
       "      <td>1.4</td>\n",
       "      <td>seat</td>\n",
       "      <td>2.9</td>\n",
       "    </tr>\n",
       "    <tr>\n",
       "      <th>1</th>\n",
       "      <td>crew</td>\n",
       "      <td>1.1</td>\n",
       "      <td>class</td>\n",
       "      <td>0.9</td>\n",
       "    </tr>\n",
       "    <tr>\n",
       "      <th>2</th>\n",
       "      <td>time</td>\n",
       "      <td>1.0</td>\n",
       "      <td>business</td>\n",
       "      <td>0.8</td>\n",
       "    </tr>\n",
       "    <tr>\n",
       "      <th>3</th>\n",
       "      <td>food</td>\n",
       "      <td>0.9</td>\n",
       "      <td>economy</td>\n",
       "      <td>0.6</td>\n",
       "    </tr>\n",
       "    <tr>\n",
       "      <th>4</th>\n",
       "      <td>cabin</td>\n",
       "      <td>0.9</td>\n",
       "      <td>food</td>\n",
       "      <td>0.5</td>\n",
       "    </tr>\n",
       "  </tbody>\n",
       "</table>\n",
       "</div>"
      ],
      "text/plain": [
       "  Topic 0 words Topic 0 weights Topic 1 words Topic 1 weights\n",
       "0       service             1.4          seat             2.9\n",
       "1          crew             1.1         class             0.9\n",
       "2          time             1.0      business             0.8\n",
       "3          food             0.9       economy             0.6\n",
       "4         cabin             0.9          food             0.5"
      ]
     },
     "execution_count": 64,
     "metadata": {},
     "output_type": "execute_result"
    }
   ],
   "source": [
    "no_top_words = 5\n",
    "display_topics(model2, tf_feature_names, no_top_words)"
   ]
  },
  {
   "cell_type": "markdown",
   "id": "b0a70ec2",
   "metadata": {},
   "source": [
    "## Sentiment Analysis using VADER"
   ]
  },
  {
   "cell_type": "code",
   "execution_count": 7,
   "id": "6fb65885",
   "metadata": {},
   "outputs": [],
   "source": [
    "sentiment = SentimentIntensityAnalyzer()"
   ]
  },
  {
   "cell_type": "code",
   "execution_count": 36,
   "id": "62f0c0d6",
   "metadata": {},
   "outputs": [],
   "source": [
    "df4 = pd.DataFrame()\n",
    "df4['Text Reviews'] = cleaned_SA\n",
    "df4['Sentiment Results']=df4['Text Reviews'].apply(lambda Reviews:sentiment.polarity_scores(Reviews))\n",
    "df4['Score']=df4['Sentiment Results'].apply(lambda score_dict:score_dict['compound'])\n",
    "df4['Comp Score'] = df4['Score'].apply(lambda c:'pos' if c>0.05  else ('neg' if c<-0.05 else 'neu'))"
   ]
  },
  {
   "cell_type": "code",
   "execution_count": 37,
   "id": "fb1dd8b2",
   "metadata": {},
   "outputs": [
    {
     "data": {
      "text/plain": [
       "2066"
      ]
     },
     "execution_count": 37,
     "metadata": {},
     "output_type": "execute_result"
    }
   ],
   "source": [
    "len(df4[df4['Comp Score']=='pos'])"
   ]
  },
  {
   "cell_type": "code",
   "execution_count": 38,
   "id": "3c350791",
   "metadata": {},
   "outputs": [
    {
     "data": {
      "text/plain": [
       "1371"
      ]
     },
     "execution_count": 38,
     "metadata": {},
     "output_type": "execute_result"
    }
   ],
   "source": [
    "len(df4[df4['Comp Score']=='neg'])"
   ]
  },
  {
   "cell_type": "code",
   "execution_count": 39,
   "id": "510caccf",
   "metadata": {},
   "outputs": [
    {
     "data": {
      "text/plain": [
       "39"
      ]
     },
     "execution_count": 39,
     "metadata": {},
     "output_type": "execute_result"
    }
   ],
   "source": [
    "len(df4[df4['Comp Score']=='neu'])"
   ]
  },
  {
   "cell_type": "code",
   "execution_count": 40,
   "id": "01f47d89",
   "metadata": {},
   "outputs": [
    {
     "data": {
      "text/plain": [
       "3476"
      ]
     },
     "execution_count": 40,
     "metadata": {},
     "output_type": "execute_result"
    }
   ],
   "source": [
    "len(df4['Comp Score'])"
   ]
  },
  {
   "cell_type": "code",
   "execution_count": 41,
   "id": "70f3002b",
   "metadata": {},
   "outputs": [
    {
     "data": {
      "text/plain": [
       "59.436133486766394"
      ]
     },
     "execution_count": 41,
     "metadata": {},
     "output_type": "execute_result"
    }
   ],
   "source": [
    "2066/3476*100"
   ]
  },
  {
   "cell_type": "code",
   "execution_count": 43,
   "id": "0580862f",
   "metadata": {},
   "outputs": [
    {
     "data": {
      "text/plain": [
       "39.441887226697354"
      ]
     },
     "execution_count": 43,
     "metadata": {},
     "output_type": "execute_result"
    }
   ],
   "source": [
    "1371/3476*100"
   ]
  },
  {
   "cell_type": "code",
   "execution_count": 42,
   "id": "fb492d2f",
   "metadata": {},
   "outputs": [
    {
     "data": {
      "text/plain": [
       "1.1219792865362486"
      ]
     },
     "execution_count": 42,
     "metadata": {},
     "output_type": "execute_result"
    }
   ],
   "source": [
    "39/3476*100"
   ]
  },
  {
   "cell_type": "code",
   "execution_count": 235,
   "id": "17fc52df",
   "metadata": {},
   "outputs": [
    {
     "data": {
      "image/png": "[encoded data removed]",
      "text/plain": [
       "<Figure size 720x432 with 1 Axes>"
      ]
     },
     "metadata": {},
     "output_type": "display_data"
    }
   ],
   "source": [
    "fig = plt.figure(facecolor='white',figsize=(10,6))\n",
    "sns.histplot(data=df4,x='Score')\n",
    "plt.xticks(fontsize=15)\n",
    "plt.yticks(fontsize=15)\n",
    "plt.xlabel('Score',fontsize=15)\n",
    "plt.ylabel('Frequency',fontsize=15)\n",
    "plt.savefig('Score.png',bbox_inches='tight')"
   ]
  }
 ],
 "metadata": {
  "kernelspec": {
   "display_name": "Python 3 (ipykernel)",
   "language": "python",
   "name": "python3"
  },
  "language_info": {
   "codemirror_mode": {
    "name": "ipython",
    "version": 3
   },
   "file_extension": ".py",
   "mimetype": "text/x-python",
   "name": "python",
   "nbconvert_exporter": "python",
   "pygments_lexer": "ipython3",
   "version": "3.9.12"
  }
 },
 "nbformat": 4,
 "nbformat_minor": 5
}
